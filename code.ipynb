{
 "cells": [
  {
   "cell_type": "code",
   "execution_count": 2,
   "metadata": {},
   "outputs": [
    {
     "name": "stderr",
     "output_type": "stream",
     "text": [
      "Note: NumExpr detected 16 cores but \"NUMEXPR_MAX_THREADS\" not set, so enforcing safe limit of 8.\n",
      "NumExpr defaulting to 8 threads.\n"
     ]
    }
   ],
   "source": [
    "import pandas as pd\n",
    "import numpy as np\n",
    "from sklearn.model_selection import StratifiedKFold\n",
    "from sklearn.preprocessing import LabelEncoder\n",
    "from sklearn.metrics import f1_score, roc_auc_score, log_loss\n",
    "import lightgbm as lgb\n",
    "import warnings\n",
    "warnings.filterwarnings('ignore')"
   ]
  },
  {
   "cell_type": "code",
   "execution_count": 4,
   "metadata": {},
   "outputs": [],
   "source": [
    "train_user = pd.read_csv('./data/train/训练集_用户基本信息表.txt')\n",
    "train_day = pd.read_csv('./data/train/训练集_用户日电量明细表.txt')\n",
    "train_month = pd.read_csv('./data/train/训练集_行业户均月电量.txt')\n",
    "\n",
    "test_user = pd.read_csv('./data/test/测试集_用户基本信息表.txt')\n",
    "test_day = pd.read_csv('./data/test/测试集_用户日电量明细表.txt')\n",
    "test_month = pd.read_csv('./data/test/测试集_行业户均月电量.txt')\n",
    "\n",
    "df_user = pd.concat([train_user, test_user])\n",
    "df_day = pd.concat([train_day, test_day])\n",
    "df_month = pd.concat([train_month, test_month])\n",
    "\n",
    "feats = ['contract_cap', 'run_cap']"
   ]
  },
  {
   "cell_type": "code",
   "execution_count": 7,
   "metadata": {},
   "outputs": [
    {
     "name": "stdout",
     "output_type": "stream",
     "text": [
      "['contract_cap', 'run_cap', 'avg_settle_pq_mean', 'avg_settle_pq_median', 'avg_settle_pq_skew', 'county_code', 'volt_name', 'elec_type_name', 'status_name', 'trade_name']\n"
     ]
    }
   ],
   "source": [
    "tmp = df_month.groupby(['trade_code', 'trade_name', 'county_code'])['avg_settle_pq'].agg(\n",
    "    ['mean', 'median', 'skew', 'sum']).reset_index()\n",
    "tmp.columns = list(tmp.columns[:3]) + ['avg_settle_pq_mean', 'avg_settle_pq_median', 'avg_settle_pq_skew', 'avg_settle_pq_sum']\n",
    "df_user = pd.merge(df_user, tmp, on=['trade_code', 'trade_name', 'county_code'], how='left')\n",
    "feats += ['avg_settle_pq_mean', 'avg_settle_pq_median', 'avg_settle_pq_skew']\n",
    "\n",
    "cat_feats = ['county_code', 'volt_name', 'elec_type_name', 'status_name', 'trade_name']\n",
    "for name in cat_feats:\n",
    "    le = LabelEncoder()\n",
    "    df_user[name] = le.fit_transform(df_user[name])\n",
    "feats += cat_feats\n",
    "\n",
    "df_train = df_user[~df_user['flag'].isna()].reset_index()\n",
    "df_test = df_user[df_user['flag'].isna()].reset_index()\n",
    "\n",
    "print(feats)"
   ]
  },
  {
   "cell_type": "code",
   "execution_count": 8,
   "metadata": {},
   "outputs": [
    {
     "name": "stdout",
     "output_type": "stream",
     "text": [
      "----------- 0\n",
      "Training until validation scores don't improve for 100 rounds\n",
      "Early stopping, best iteration is:\n",
      "[33]\tvalid_0's binary_logloss: 0.0354758\n",
      "----------- 1\n",
      "Training until validation scores don't improve for 100 rounds\n",
      "Early stopping, best iteration is:\n",
      "[33]\tvalid_0's binary_logloss: 0.0377425\n",
      "----------- 2\n",
      "Training until validation scores don't improve for 100 rounds\n",
      "Early stopping, best iteration is:\n",
      "[15]\tvalid_0's binary_logloss: 0.0381263\n",
      "----------- 3\n",
      "Training until validation scores don't improve for 100 rounds\n",
      "Early stopping, best iteration is:\n",
      "[93]\tvalid_0's binary_logloss: 0.0295708\n",
      "----------- 4\n",
      "Training until validation scores don't improve for 100 rounds\n",
      "Early stopping, best iteration is:\n",
      "[43]\tvalid_0's binary_logloss: 0.0320341\n",
      "----------- 5\n",
      "Training until validation scores don't improve for 100 rounds\n",
      "Early stopping, best iteration is:\n",
      "[31]\tvalid_0's binary_logloss: 0.0340344\n",
      "----------- 6\n",
      "Training until validation scores don't improve for 100 rounds\n",
      "Early stopping, best iteration is:\n",
      "[24]\tvalid_0's binary_logloss: 0.0403641\n",
      "----------- 7\n",
      "Training until validation scores don't improve for 100 rounds\n",
      "Early stopping, best iteration is:\n",
      "[26]\tvalid_0's binary_logloss: 0.0404706\n",
      "----------- 8\n",
      "Training until validation scores don't improve for 100 rounds\n",
      "Early stopping, best iteration is:\n",
      "[64]\tvalid_0's binary_logloss: 0.032205\n",
      "----------- 9\n",
      "Training until validation scores don't improve for 100 rounds\n",
      "Early stopping, best iteration is:\n",
      "[24]\tvalid_0's binary_logloss: 0.0406772\n",
      "\n",
      "F1...  0.66644675679983\n",
      "AUC  0.85343, LOGLOSS  0.03607\n",
      "                   name   importance\n",
      "3  avg_settle_pq_median  1441.699666\n",
      "2    avg_settle_pq_mean  1193.816815\n",
      "6             volt_name  1041.543870\n",
      "0          contract_cap   855.245186\n",
      "4    avg_settle_pq_skew   707.587364\n",
      "8           status_name   660.611819\n",
      "9            trade_name   651.975447\n",
      "7        elec_type_name   635.013473\n",
      "5           county_code   529.092386\n",
      "1               run_cap   378.616681\n",
      "109\n"
     ]
    }
   ],
   "source": [
    "params = {\n",
    "    'learning_rate': 0.05,\n",
    "    'boosting_type': 'gbdt',\n",
    "    'objective': 'binary',\n",
    "    'verbose': -1,\n",
    "    'seed': 2022,\n",
    "    'n_jobs': -1,\n",
    "}\n",
    "\n",
    "fold_num = 10\n",
    "seed = 2022\n",
    "kf = StratifiedKFold(n_splits=fold_num, shuffle=True, random_state=seed)\n",
    "\n",
    "oof = np.zeros(len(df_train))\n",
    "importance = 0\n",
    "pred_y = pd.DataFrame()\n",
    "LABEL = 'flag'\n",
    "for fold, (train_idx, val_idx) in enumerate(kf.split(df_train[feats], df_train[LABEL])):\n",
    "    print('-----------', fold)\n",
    "    train = lgb.Dataset(df_train.loc[train_idx, feats],\n",
    "                        df_train.loc[train_idx, LABEL])\n",
    "    val = lgb.Dataset(df_train.loc[val_idx, feats],\n",
    "                      df_train.loc[val_idx, LABEL])\n",
    "    model = lgb.train(params, train, valid_sets=val, num_boost_round=10000,\n",
    "                      early_stopping_rounds=100, verbose_eval=200)\n",
    "    oof[val_idx] += model.predict(df_train.loc[val_idx, feats])\n",
    "    pred_y['fold_%d_seed_%d' % (fold, seed)] = model.predict(df_test[feats])\n",
    "    importance += model.feature_importance(importance_type='gain') / fold_num\n",
    "\n",
    "thre = 0.1\n",
    "score = f1_score(df_train[LABEL],\n",
    "                 list(map(lambda x: 1 if x > thre else 0, oof)), average='macro')\n",
    "print('\\nF1... ', score)\n",
    "print('AUC  %0.5f, LOGLOSS  %0.5f' % (\n",
    "    roc_auc_score(df_train['flag'], oof),\n",
    "    log_loss(df_train['flag'], oof)))\n",
    "\n",
    "feats_importance = pd.DataFrame()\n",
    "feats_importance['name'] = feats\n",
    "feats_importance['importance'] = importance\n",
    "print(feats_importance.sort_values('importance', ascending=False)[:10])\n",
    "\n",
    "pred_y = pred_y.mean(axis=1).map(lambda x: 1 if x > thre else 0)\n",
    "print(pred_y.sum())\n",
    "df_test['flag'] = pred_y\n",
    "df_test[['user_id', 'flag']].to_csv('./baseline.csv', index=False, header=['id', 'flag'])"
   ]
  }
 ],
 "metadata": {
  "interpreter": {
   "hash": "e4ecc6494d83b3e5c1d58c547a4442a6a978b1ecc3875e55ce68519d598d39cb"
  },
  "kernelspec": {
   "display_name": "Python 3.8.3 ('base')",
   "language": "python",
   "name": "python3"
  },
  "language_info": {
   "codemirror_mode": {
    "name": "ipython",
    "version": 3
   },
   "file_extension": ".py",
   "mimetype": "text/x-python",
   "name": "python",
   "nbconvert_exporter": "python",
   "pygments_lexer": "ipython3",
   "version": "3.8.3"
  },
  "orig_nbformat": 4
 },
 "nbformat": 4,
 "nbformat_minor": 2
}
